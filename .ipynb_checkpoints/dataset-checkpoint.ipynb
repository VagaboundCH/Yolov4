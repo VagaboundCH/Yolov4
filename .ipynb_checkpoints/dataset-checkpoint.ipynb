{
 "cells": [
  {
   "cell_type": "code",
   "execution_count": 5,
   "metadata": {},
   "outputs": [],
   "source": [
    "# import config\n",
    "import numpy as np\n",
    "import os\n",
    "import pandas as pd\n",
    "import torch\n",
    "\n",
    "from PIL import Image, ImageFile\n",
    "from torch.utils.data import Dataset, DataLoader\n",
    "# from utils import iou_width_height as iou, non_max_suppression as nms"
   ]
  },
  {
   "cell_type": "code",
   "execution_count": 6,
   "metadata": {},
   "outputs": [],
   "source": [
    "# Dass keine Fehler auftauchen beim laden #\n",
    "ImageFile.LOAD_TrunCated_Images = True"
   ]
  },
  {
   "cell_type": "code",
   "execution_count": 7,
   "metadata": {},
   "outputs": [],
   "source": [
    "class YOLODataset(Dataset):\n",
    "    def __init__(self, csv_file, img_dir, label_dir, anchors, image_size=416, s=[13,26,52], c=20, transform=None):\n",
    "        self.annotations = pd.read_csv(csv_file)\n",
    "        self.img_dir  = img_dir\n",
    "        self.label_dir = label_dir\n",
    "        self.transform = transform\n",
    "        self.anchors = torch.tensor(anchors[0]+anchors[1]+anchors[3]) # for all 3 scales\n",
    "        self.num_anchors = self.anchors.shape[0]\n",
    "        self.num_anchors_per_scale = self.num_anchors // 3\n",
    "        self.c = c\n",
    "        self.ignore_iou_thres = 0.5 # Wenn zwei bounding boxes eine iou von diesem Wert haben, wird die bounding box mit dem kleineren confidence Wert ignoriert.\n",
    "        \n",
    "    def __len__(self):\n",
    "        return len(self.annotations)\n",
    "    \n",
    "    def __getitem__(self, index):\n",
    "        label_path = os.path.join(self.label_dir, self.annotations.iloc[index,1]) # Index für die Zeile, 1 weil es in der zweiten Spalte ist. \n",
    "        \n",
    "        if self.transform:\n",
    "            augemtations = self.transform(image=image, bboxes=bbxoes)\n",
    "            image = augemtations['image']\n",
    "            bboxes = augmentations['bboxes']\n",
    "            \n",
    "        targets = [torch.zerso((self.num_anchors // 3, s, s ,6)) for s in self.s] # \n",
    "        \n",
    "        for box in bboxes:\n",
    "            iou_anchors = iou(torch.tensor(box[2:4]), self.anchors) # iou von utils, ious berechnen für alle anchors\n",
    "            anchor_indices = iou_anchors.argsort(descending=True, dim=0) # anchors mit höchster iou ist an erster Stelle\n",
    "            x, y, width, height, class_label = box\n",
    "            has_anchor = [False, False, False] #sicher das auf allen scale eine bounding vox vorhanden ist\n",
    "            \n",
    "        for anchor_idx in anchors_indices:\n",
    "            scale_idx = anchor_idx // self.num_anchors_per_scale # 0, 1, 2 Welche scale Ebene\n",
    "            anchor_on_scale = anchor_idx % self.num_anchors_per_scale # 0, 1, 2, Welche Anchor von welcher scale Ebene\n",
    "            s = self.s[idx] # grid size wo wir sind\n",
    "            i, j = int(s*y), int(s*x) # x = 0.5, s=13 --> int(6.5) = 6\n",
    "            anchor_taken = targets[scale_idx][anchors_on_scale, i, j, 0] # Welcher Anchor, 0 steht für die Wahrscheinlichkeit, dass ein Objekt vorhanden ist\n",
    "            \n",
    "            # Es könnte sein, dass diese Objekt bereits von einem anderen Anchor verwendet wird, kommt sehr selten vor. Wenn dies nicht der Fall ist werden die Koordinaten und bboxes Grösse berechnet\n",
    "            if not anchor_taken and not has_anchor[scale_idx]:\n",
    "                targets[scale_idx][anchor_on_scale, i, j, 0] = 1\n",
    "                x_cell, y_cell = s*x - j, x*y - i\n",
    "                width_cell, height_cell = (width * s, height * s)\n",
    "                box_coordinates = torch.tensor([x_cell, y_cell, width_cell, height_cell])\n",
    "                targets[scale_idx][anchor_on_scale, i, j, 1:5] = box_coordinates\n",
    "                targets[scale_idx][anchor_on_scale, i, j, 5] = int(class_label)\n",
    "                \n",
    "                \n",
    "                \n",
    "            elif not anchor_taken and iou_anchors[anchor_idx] > self.ignore_iou_thres: # Wenn noch ein bbox vorhanden ist, wird diese ignoriert\n",
    "                targets[scale_idx][anchor_on_scale, i, j, 0] = -1 # ignoriert diese prediction"
   ]
  },
  {
   "cell_type": "code",
   "execution_count": null,
   "metadata": {},
   "outputs": [],
   "source": []
  }
 ],
 "metadata": {
  "kernelspec": {
   "display_name": "Python 3",
   "language": "python",
   "name": "python3"
  },
  "language_info": {
   "codemirror_mode": {
    "name": "ipython",
    "version": 3
   },
   "file_extension": ".py",
   "mimetype": "text/x-python",
   "name": "python",
   "nbconvert_exporter": "python",
   "pygments_lexer": "ipython3",
   "version": "3.6.4"
  }
 },
 "nbformat": 4,
 "nbformat_minor": 2
}
